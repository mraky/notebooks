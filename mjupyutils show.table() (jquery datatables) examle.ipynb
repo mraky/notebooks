{
 "cells": [
  {
   "cell_type": "code",
   "execution_count": 1,
   "metadata": {
    "collapsed": false
   },
   "outputs": [
    {
     "data": {
      "text/html": [
       "<script>\n",
       "if(window['datatable'] === undefined){\n",
       "\n",
       "\n",
       "    require.config( {\n",
       "        deps: [ 'require-css' ],\n",
       "        paths: {\n",
       "            'require-css': '//cdnjs.cloudflare.com/ajax/libs/require-css/0.1.8/css.min',\n",
       "          //  'bootstrap': 'css!//cdnjs.cloudflare.com/ajax/libs/twitter-bootstrap/3.3.5/css/bootstrap.min',\n",
       "            'jquery': '//code.jquery.com/jquery-2.1.4.min',\n",
       "            'datatables.net': '//nightly.datatables.net/js/jquery.dataTables',\n",
       "            'datatables.net-dt': 'css!//nightly.datatables.net/css/jquery.dataTables.min',\n",
       "\n",
       "            'datatables.net-bs': [\n",
       "            //    'css!//nightly.datatables.net/css/dataTables.bootstrap.min',\n",
       "                '//nightly.datatables.net/js/dataTables.bootstrap.min',\n",
       "            ]\n",
       "        }\n",
       "    } );\n",
       "\n",
       "\n",
       "\n",
       "\n",
       "    console.log('Begin loading all JavaScript libs...');\n",
       "\n",
       "require( ['jquery', 'datatables.net-bs'], function ($, dt){\n",
       "    window['datatable'] = \" \";\n",
       "    console.log('starting to render datatable:');\n",
       "\tvar event = document.createEvent(\"HTMLEvents\");\n",
       "\tevent.initEvent(\"load_datatable\", true, false);\n",
       "\twindow.dispatchEvent(event);\n",
       "    });\n",
       "}\n",
       "</script>\n"
      ],
      "text/plain": [
       "<IPython.core.display.HTML object>"
      ]
     },
     "metadata": {},
     "output_type": "display_data"
    },
    {
     "data": {
      "text/html": [
       "<!DOCTYPE html>\n",
       "<html>\n",
       "<head>\n",
       "<meta charset=utf-8 />\n",
       "<title>Animated </title>\n",
       "\n",
       "\n",
       "<link rel=\"stylesheet\" href=\"https://cdnjs.cloudflare.com/ajax/libs/twitter-bootstrap/3.3.5/css/bootstrap.min.css\">\n",
       "<link rel=\"stylesheet\" href=\"https://cdn.datatables.net/1.10.11/css/jquery.dataTables.min.css\">\n",
       "<link rel=\"stylesheet\" href=\"https://nightly.datatables.net/css/dataTables.bootstrap.min.css\">\n",
       "\n",
       "<style type=\"text/css\">\n",
       "body {\n",
       "  font: 14px helvetica neue, helvetica, arial, sans-serif;\n",
       "}\n",
       "\n",
       "#table086f0599-5e7b-4fa7-b733-7caf4b3260a2 {\n",
       "\n",
       "        \n",
       "}\n",
       "</style>\n",
       "    <script>\n",
       "(function(){\n",
       "\n",
       "\n",
       "    function render(){\n",
       "\n",
       "        $('#table086f0599-5e7b-4fa7-b733-7caf4b3260a2').DataTable( {\n",
       "            data: [[\"Tiger Nixon\", \"System Architect\", \"Edinburgh\", \"5421\", \"2011/04/25\", \"$320,800\"], [\"Garrett Winters\", \"Accountant\", \"Tokyo\", \"8422\", \"2011/07/25\", \"$170,750\"], [\"Ashton Cox\", \"Junior Technical Author\", \"San Francisco\", \"1562\", \"2009/01/12\", \"$86,000\"], [\"Cedric Kelly\", \"Senior Javascript Developer\", \"Edinburgh\", \"6224\", \"2012/03/29\", \"$433,060\"], [\"Airi Satou\", \"Accountant\", \"Tokyo\", \"5407\", \"2008/11/28\", \"$162,700\"], [\"Brielle Williamson\", \"Integration Specialist\", \"New York\", \"4804\", \"2012/12/02\", \"$372,000\"], [\"Herrod Chandler\", \"Sales Assistant\", \"San Francisco\", \"9608\", \"2012/08/06\", \"$137,500\"], [\"Rhona Davidson\", \"Integration Specialist\", \"Tokyo\", \"6200\", \"2010/10/14\", \"$327,900\"], [\"Colleen Hurst\", \"Javascript Developer\", \"San Francisco\", \"2360\", \"2009/09/15\", \"$205,500\"], [\"Sonya Frost\", \"Software Engineer\", \"Edinburgh\", \"1667\", \"2008/12/13\", \"$103,600\"]],\n",
       "            columns:[{\"title\": \"Name\"}, {\"title\": \"Position\"}, {\"title\": \"Office\"}, {\"title\": \"Extn.\"}, {\"title\": \"Start date\"}, {\"title\": \"Salary\"}],\n",
       "            \"dom\": '<\"wrapper\"flipt>'\n",
       "        } );\n",
       "    };\n",
       "\n",
       "\n",
       "    var before_render = function(){\n",
       "        if(window['datatable'] == undefined){\n",
       "             console.log(\"wait!\");\n",
       "\n",
       "         window.addEventListener(\"load_datatable\", before_render);\n",
       "        }else{\n",
       "         console.log(\"begin rendering!\");\n",
       "         render();\n",
       "        }\n",
       "    }\n",
       "\n",
       "    before_render();\n",
       "\n",
       "\n",
       "})();\n",
       "\n",
       "</script>\n",
       "</head>\n",
       "<body>\n",
       "\n",
       "  <table id=\"table086f0599-5e7b-4fa7-b733-7caf4b3260a2\" class=\"display\" width=\"100%\" ></table>\n",
       "  <!-- When only #uuid div is placed on this page, the height of output-box on ipynb will be 0px. One line below will prevent that. -->\n",
       "<!-- <div id=\"dammy\" style=\"width:100%;height:300px\">  -->\n",
       "</body>\n",
       "</html>"
      ],
      "text/plain": [
       "<IPython.core.display.HTML object>"
      ]
     },
     "metadata": {},
     "output_type": "display_data"
    }
   ],
   "source": [
    "from mjupyutils import show\n",
    "\n",
    "dataset = [\n",
    "    [\"Tiger Nixon\", \"System Architect\", \"Edinburgh\", \"5421\", \"2011/04/25\", \"$320,800\"],\n",
    "    [\"Garrett Winters\", \"Accountant\", \"Tokyo\", \"8422\", \"2011/07/25\", \"$170,750\"],\n",
    "    [\"Ashton Cox\", \"Junior Technical Author\", \"San Francisco\", \"1562\", \"2009/01/12\", \"$86,000\"],\n",
    "    [\"Cedric Kelly\", \"Senior Javascript Developer\", \"Edinburgh\", \"6224\", \"2012/03/29\", \"$433,060\"],\n",
    "    [\"Airi Satou\", \"Accountant\", \"Tokyo\", \"5407\", \"2008/11/28\", \"$162,700\"],\n",
    "    [\"Brielle Williamson\", \"Integration Specialist\", \"New York\", \"4804\", \"2012/12/02\", \"$372,000\"],\n",
    "    [\"Herrod Chandler\", \"Sales Assistant\", \"San Francisco\", \"9608\", \"2012/08/06\", \"$137,500\"],\n",
    "    [\"Rhona Davidson\", \"Integration Specialist\", \"Tokyo\", \"6200\", \"2010/10/14\", \"$327,900\"],\n",
    "    [\"Colleen Hurst\", \"Javascript Developer\", \"San Francisco\", \"2360\", \"2009/09/15\", \"$205,500\"],\n",
    "    [\"Sonya Frost\", \"Software Engineer\", \"Edinburgh\", \"1667\", \"2008/12/13\", \"$103,600\"]\n",
    "]\n",
    "show.table(dataset=dataset)\n"
   ]
  },
  {
   "cell_type": "code",
   "execution_count": null,
   "metadata": {
    "collapsed": true
   },
   "outputs": [],
   "source": []
  }
 ],
 "metadata": {
  "kernelspec": {
   "display_name": "Python 3",
   "language": "python",
   "name": "python3"
  },
  "language_info": {
   "codemirror_mode": {
    "name": "ipython",
    "version": 3
   },
   "file_extension": ".py",
   "mimetype": "text/x-python",
   "name": "python",
   "nbconvert_exporter": "python",
   "pygments_lexer": "ipython3",
   "version": "3.5.1"
  }
 },
 "nbformat": 4,
 "nbformat_minor": 0
}
