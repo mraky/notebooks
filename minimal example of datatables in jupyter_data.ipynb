{
 "cells": [
  {
   "cell_type": "code",
   "execution_count": 10,
   "metadata": {
    "ExecuteTime": {
     "end_time": "2016-04-07T11:59:32.013330",
     "start_time": "2016-04-07T11:59:31.882778"
    },
    "collapsed": false
   },
   "outputs": [
    {
     "data": {
      "text/plain": [
       "<IPython.core.display.Javascript object>"
      ]
     },
     "execution_count": 10,
     "metadata": {},
     "output_type": "execute_result"
    }
   ],
   "source": [
    "from IPython.display import Javascript\n",
    "\n",
    "data=[\n",
    "    [ \"Tiger Nixon\", \"System Architect\", \"Edinburgh\", \"5421\", \"2011/04/25\", \"$320,800\" ],\n",
    "    [ \"Garrett Winters\", \"Accountant\", \"Tokyo\", \"8422\", \"2011/07/25\", \"$170,750\" ],\n",
    "    [ \"Ashton Cox\", \"Junior Technical Author\", \"San Francisco\", \"1562\", \"2009/01/12\", \"$86,000\" ],\n",
    "    [ \"Cedric Kelly\", \"Senior Javascript Developer\", \"Edinburgh\", \"6224\", \"2012/03/29\", \"$433,060\" ],\n",
    "    [ \"Airi Satou\", \"Accountant\", \"Tokyo\", \"5407\", \"2008/11/28\", \"$162,700\" ],\n",
    "    [ \"Brielle Williamson\", \"Integration Specialist\", \"New York\", \"4804\", \"2012/12/02\", \"$372,000\" ],\n",
    "    [ \"Herrod Chandler\", \"Sales Assistant\", \"San Francisco\", \"9608\", \"2012/08/06\", \"$137,500\" ],\n",
    "    [ \"Rhona Davidson\", \"Integration Specialist\", \"Tokyo\", \"6200\", \"2010/10/14\", \"$327,900\" ],\n",
    "    [ \"Colleen Hurst\", \"Javascript Developer\", \"San Francisco\", \"2360\", \"2009/09/15\", \"$205,500\" ],\n",
    "    [ \"Sonya Frost\", \"Software Engineer\", \"Edinburgh\", \"1667\", \"2008/12/13\", \"$103,600\" ],\n",
    "    [ \"Jena Gaines\", \"Office Manager\", \"London\", \"3814\", \"2008/12/19\", \"$90,560\" ],\n",
    "    [ \"Quinn Flynn\", \"Support Lead\", \"Edinburgh\", \"9497\", \"2013/03/03\", \"$342,000\" ],\n",
    "    [ \"Charde Marshall\", \"Regional Director\", \"San Francisco\", \"6741\", \"2008/10/16\", \"$470,600\" ],\n",
    "    [ \"Haley Kennedy\", \"Senior Marketing Designer\", \"London\", \"3597\", \"2012/12/18\", \"$313,500\" ],\n",
    "    [ \"Tatyana Fitzpatrick\", \"Regional Director\", \"London\", \"1965\", \"2010/03/17\", \"$385,750\" ],\n",
    "    [ \"Michael Silva\", \"Marketing Designer\", \"London\", \"1581\", \"2012/11/27\", \"$198,500\" ],\n",
    "    [ \"Paul Byrd\", \"Chief Financial Officer (CFO)\", \"New York\", \"3059\", \"2010/06/09\", \"$725,000\" ],\n",
    "    [ \"Gloria Little\", \"Systems Administrator\", \"New York\", \"1721\", \"2009/04/10\", \"$237,500\" ],\n",
    "    [ \"Bradley Greer\", \"Software Engineer\", \"London\", \"2558\", \"2012/10/13\", \"$132,000\" ],\n",
    "    [ \"Dai Rios\", \"Personnel Lead\", \"Edinburgh\", \"2290\", \"2012/09/26\", \"$217,500\" ],\n",
    "    [ \"Jenette Caldwell\", \"Development Lead\", \"New York\", \"1937\", \"2011/09/03\", \"$345,000\" ],\n",
    "    [ \"Yuri Berry\", \"Chief Marketing Officer (CMO)\", \"New York\", \"6154\", \"2009/06/25\", \"$675,000\" ],\n",
    "    [ \"Caesar Vance\", \"Pre-Sales Support\", \"New York\", \"8330\", \"2011/12/12\", \"$106,450\" ],\n",
    "    [ \"Doris Wilder\", \"Sales Assistant\", \"Sidney\", \"3023\", \"2010/09/20\", \"$85,600\" ],\n",
    "    [ \"Angelica Ramos\", \"Chief Executive Officer (CEO)\", \"London\", \"5797\", \"2009/10/09\", \"$1,200,000\" ],\n",
    "    [ \"Gavin Joyce\", \"Developer\", \"Edinburgh\", \"8822\", \"2010/12/22\", \"$92,575\" ],\n",
    "    [ \"Jennifer Chang\", \"Regional Director\", \"Singapore\", \"9239\", \"2010/11/14\", \"$357,650\" ],\n",
    "    [ \"Brenden Wagner\", \"Software Engineer\", \"San Francisco\", \"1314\", \"2011/06/07\", \"$206,850\" ],\n",
    "    [ \"Fiona Green\", \"Chief Operating Officer (COO)\", \"San Francisco\", \"2947\", \"2010/03/11\", \"$850,000\" ],\n",
    "    [ \"Shou Itou\", \"Regional Marketing\", \"Tokyo\", \"8899\", \"2011/08/14\", \"$163,000\" ],\n",
    "    [ \"Michelle House\", \"Integration Specialist\", \"Sidney\", \"2769\", \"2011/06/02\", \"$95,400\" ],\n",
    "    [ \"Suki Burks\", \"Developer\", \"London\", \"6832\", \"2009/10/22\", \"$114,500\" ],\n",
    "    [ \"Prescott Bartlett\", \"Technical Author\", \"London\", \"3606\", \"2011/05/07\", \"$145,000\" ],\n",
    "    [ \"Gavin Cortez\", \"Team Leader\", \"San Francisco\", \"2860\", \"2008/10/26\", \"$235,500\" ],\n",
    "    [ \"Martena Mccray\", \"Post-Sales support\", \"Edinburgh\", \"8240\", \"2011/03/09\", \"$324,050\" ],\n",
    "    [ \"Unity Butler\", \"Marketing Designer\", \"San Francisco\", \"5384\", \"2009/12/09\", \"$85,675\" ]\n",
    "]\n",
    "\n",
    "\n",
    "\n",
    "Javascript(\"\"\"\n",
    "           window.dataSet={};\n",
    "           \"\"\".format(data))"
   ]
  },
  {
   "cell_type": "code",
   "execution_count": 11,
   "metadata": {
    "ExecuteTime": {
     "end_time": "2016-04-07T11:59:32.032319",
     "start_time": "2016-04-07T11:59:32.018477"
    },
    "collapsed": false,
    "hide_input": false
   },
   "outputs": [
    {
     "data": {
      "text/plain": [
       "<IPython.core.display.Javascript object>"
      ]
     },
     "metadata": {},
     "output_type": "display_data"
    }
   ],
   "source": [
    "%%javascript\n",
    "require.config( {\n",
    "    deps: [ 'require-css' ],\n",
    "    paths: {\n",
    "        'require-css': '//cdnjs.cloudflare.com/ajax/libs/require-css/0.1.8/css.min',\n",
    "        'bootstrap': '//cdnjs.cloudflare.com/ajax/libs/twitter-bootstrap/3.3.5/css/bootstrap.min',\n",
    "        'jquery': '//code.jquery.com/jquery-2.1.4.min',\n",
    "        'datatables.net': '//nightly.datatables.net/js/jquery.dataTables',\n",
    "        'datatables.net-dt': 'require-css!//nightly.datatables.net/css/jquery.dataTables.min',\n",
    "        'datatables.net-bs': [\n",
    "            'require-css!//nightly.datatables.net/css/dataTables.bootstrap.min',\n",
    "            '//nightly.datatables.net/js/dataTables.bootstrap.min',\n",
    "        ]\n",
    "    }\n",
    "} );\n",
    "\n",
    "require( ['jquery', 'require-css!bootstrap', 'datatables.net-bs'], function ($, dt) {\n",
    "\n",
    "    \n",
    "     //a weird idempotency thing\n",
    "      $(\"#myTable\").remove();\n",
    "      //create canvas\n",
    "      element.append(\"<table id='myTable'></div>\");\n",
    "    \n",
    "    \n",
    "    $('#myTable').DataTable( {\n",
    "        data: dataSet,\n",
    "        columns: [\n",
    "            { title: \"Name\" },\n",
    "            { title: \"Position\" },\n",
    "            { title: \"Office\" },\n",
    "            { title: \"Extn.\" },\n",
    "            { title: \"Start date\" },\n",
    "            { title: \"Salary\" }\n",
    "        ]\n",
    "    } );\n",
    "\n",
    "    \n",
    "} );"
   ]
  }
 ],
 "metadata": {
  "hide_input": false,
  "kernelspec": {
   "display_name": "Python 3",
   "language": "python",
   "name": "python3"
  },
  "language_info": {
   "codemirror_mode": {
    "name": "ipython",
    "version": 3.0
   },
   "file_extension": ".py",
   "mimetype": "text/x-python",
   "name": "python",
   "nbconvert_exporter": "python",
   "pygments_lexer": "ipython3",
   "version": "3.5.1"
  }
 },
 "nbformat": 4,
 "nbformat_minor": 0
}