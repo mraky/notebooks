{
 "cells": [
  {
   "cell_type": "code",
   "execution_count": 3,
   "metadata": {
    "collapsed": false
   },
   "outputs": [
    {
     "data": {
      "text/html": [
       "<script>\n",
       "if(window['datatable'] === undefined){\n",
       "\n",
       "\n",
       "    require.config( {\n",
       "        deps: [ 'require-css' ],\n",
       "        paths: {\n",
       "            'require-css': '//cdnjs.cloudflare.com/ajax/libs/require-css/0.1.8/css.min',\n",
       "          //  'bootstrap': 'css!//cdnjs.cloudflare.com/ajax/libs/twitter-bootstrap/3.3.5/css/bootstrap.min',\n",
       "            'jquery': '//code.jquery.com/jquery-2.1.4.min',\n",
       "            'datatables.net': '//nightly.datatables.net/js/jquery.dataTables',\n",
       "            'datatables.net-dt': 'css!//nightly.datatables.net/css/jquery.dataTables.min',\n",
       "\n",
       "            'datatables.net-bs': [\n",
       "            //    'css!//nightly.datatables.net/css/dataTables.bootstrap.min',\n",
       "                '//nightly.datatables.net/js/dataTables.bootstrap.min',\n",
       "            ]\n",
       "        }\n",
       "    } );\n",
       "\n",
       "\n",
       "\n",
       "\n",
       "    console.log('Begin loading all JavaScript libs...');\n",
       "\n",
       "require( ['jquery', 'datatables.net-bs'], function ($, dt){\n",
       "    window['datatable'] = \" \";\n",
       "    console.log('starting to render datatable:');\n",
       "\tvar event = document.createEvent(\"HTMLEvents\");\n",
       "\tevent.initEvent(\"load_datatable\", true, false);\n",
       "\twindow.dispatchEvent(event);\n",
       "    });\n",
       "}\n",
       "</script>\n"
      ],
      "text/plain": [
       "<IPython.core.display.HTML object>"
      ]
     },
     "metadata": {},
     "output_type": "display_data"
    },
    {
     "data": {
      "text/html": [
       "<!DOCTYPE html>\n",
       "<html>\n",
       "<head>\n",
       "<meta charset=utf-8 />\n",
       "<title>Animated </title>\n",
       "\n",
       "\n",
       "<link rel=\"stylesheet\" href=\"https://cdnjs.cloudflare.com/ajax/libs/twitter-bootstrap/3.3.5/css/bootstrap.min.css\">\n",
       "<link rel=\"stylesheet\" href=\"https://cdn.datatables.net/1.10.11/css/jquery.dataTables.min.css\">\n",
       "<link rel=\"stylesheet\" href=\"https://nightly.datatables.net/css/dataTables.bootstrap.min.css\">\n",
       "\n",
       "<style type=\"text/css\">\n",
       "body {\n",
       "  font: 14px helvetica neue, helvetica, arial, sans-serif;\n",
       "}\n",
       "\n",
       "#tablef1835bb7-b485-4fa0-a62c-bad476d27cc2 {\n",
       "\n",
       "        \n",
       "}\n",
       "</style>\n",
       "    <script>\n",
       "(function(){\n",
       "\n",
       "\n",
       "    function render(){\n",
       "\n",
       "        $('#tablef1835bb7-b485-4fa0-a62c-bad476d27cc2').DataTable( {\n",
       "            data: [[\"Tiger Nixon\", \"System Architect\", \"Edinburgh\", \"5421\", \"2011/04/25\", \"$320,800\"], [\"Garrett Winters\", \"Accountant\", \"Tokyo\", \"8422\", \"2011/07/25\", \"$170,750\"], [\"Ashton Cox\", \"Junior Technical Author\", \"San Francisco\", \"1562\", \"2009/01/12\", \"$86,000\"], [\"Cedric Kelly\", \"Senior Javascript Developer\", \"Edinburgh\", \"6224\", \"2012/03/29\", \"$433,060\"], [\"Airi Satou\", \"Accountant\", \"Tokyo\", \"5407\", \"2008/11/28\", \"$162,700\"], [\"Brielle Williamson\", \"Integration Specialist\", \"New York\", \"4804\", \"2012/12/02\", \"$372,000\"], [\"Herrod Chandler\", \"Sales Assistant\", \"San Francisco\", \"9608\", \"2012/08/06\", \"$137,500\"], [\"Rhona Davidson\", \"Integration Specialist\", \"Tokyo\", \"6200\", \"2010/10/14\", \"$327,900\"], [\"Colleen Hurst\", \"Javascript Developer\", \"San Francisco\", \"2360\", \"2009/09/15\", \"$205,500\"], [\"Sonya Frost\", \"Software Engineer\", \"Edinburgh\", \"1667\", \"2008/12/13\", \"$103,600\"], [\"Jena Gaines\", \"Office Manager\", \"London\", \"3814\", \"2008/12/19\", \"$90,560\"], [\"Quinn Flynn\", \"Support Lead\", \"Edinburgh\", \"9497\", \"2013/03/03\", \"$342,000\"], [\"Charde Marshall\", \"Regional Director\", \"San Francisco\", \"6741\", \"2008/10/16\", \"$470,600\"], [\"Haley Kennedy\", \"Senior Marketing Designer\", \"London\", \"3597\", \"2012/12/18\", \"$313,500\"], [\"Tatyana Fitzpatrick\", \"Regional Director\", \"London\", \"1965\", \"2010/03/17\", \"$385,750\"], [\"Michael Silva\", \"Marketing Designer\", \"London\", \"1581\", \"2012/11/27\", \"$198,500\"], [\"Paul Byrd\", \"Chief Financial Officer (CFO)\", \"New York\", \"3059\", \"2010/06/09\", \"$725,000\"], [\"Gloria Little\", \"Systems Administrator\", \"New York\", \"1721\", \"2009/04/10\", \"$237,500\"], [\"Bradley Greer\", \"Software Engineer\", \"London\", \"2558\", \"2012/10/13\", \"$132,000\"], [\"Dai Rios\", \"Personnel Lead\", \"Edinburgh\", \"2290\", \"2012/09/26\", \"$217,500\"], [\"Jenette Caldwell\", \"Development Lead\", \"New York\", \"1937\", \"2011/09/03\", \"$345,000\"], [\"Yuri Berry\", \"Chief Marketing Officer (CMO)\", \"New York\", \"6154\", \"2009/06/25\", \"$675,000\"], [\"Caesar Vance\", \"Pre-Sales Support\", \"New York\", \"8330\", \"2011/12/12\", \"$106,450\"], [\"Doris Wilder\", \"Sales Assistant\", \"Sidney\", \"3023\", \"2010/09/20\", \"$85,600\"], [\"Angelica Ramos\", \"Chief Executive Officer (CEO)\", \"London\", \"5797\", \"2009/10/09\", \"$1,200,000\"], [\"Gavin Joyce\", \"Developer\", \"Edinburgh\", \"8822\", \"2010/12/22\", \"$92,575\"], [\"Jennifer Chang\", \"Regional Director\", \"Singapore\", \"9239\", \"2010/11/14\", \"$357,650\"], [\"Brenden Wagner\", \"Software Engineer\", \"San Francisco\", \"1314\", \"2011/06/07\", \"$206,850\"], [\"Fiona Green\", \"Chief Operating Officer (COO)\", \"San Francisco\", \"2947\", \"2010/03/11\", \"$850,000\"], [\"Shou Itou\", \"Regional Marketing\", \"Tokyo\", \"8899\", \"2011/08/14\", \"$163,000\"], [\"Michelle House\", \"Integration Specialist\", \"Sidney\", \"2769\", \"2011/06/02\", \"$95,400\"], [\"Suki Burks\", \"Developer\", \"London\", \"6832\", \"2009/10/22\", \"$114,500\"], [\"Prescott Bartlett\", \"Technical Author\", \"London\", \"3606\", \"2011/05/07\", \"$145,000\"], [\"Gavin Cortez\", \"Team Leader\", \"San Francisco\", \"2860\", \"2008/10/26\", \"$235,500\"], [\"Martena Mccray\", \"Post-Sales support\", \"Edinburgh\", \"8240\", \"2011/03/09\", \"$324,050\"], [\"Unity Butler\", \"Marketing Designer\", \"San Francisco\", \"5384\", \"2009/12/09\", \"$85,675\"]],\n",
       "            columns:[{\"title\": \"Name\"}, {\"title\": \"Position\"}, {\"title\": \"Office\"}, {\"title\": \"Extn.\"}, {\"title\": \"Start date\"}, {\"title\": \"Salary\"}],\n",
       "            \"dom\": '<\"wrapper\"flipt>'\n",
       "        } );\n",
       "    };\n",
       "\n",
       "\n",
       "    var before_render = function(){\n",
       "        if(window['datatable'] == undefined){\n",
       "             console.log(\"wait!\");\n",
       "\n",
       "         window.addEventListener(\"load_datatable\", before_render);\n",
       "        }else{\n",
       "         console.log(\"begin rendering!\");\n",
       "         render();\n",
       "        }\n",
       "    }\n",
       "\n",
       "    before_render();\n",
       "\n",
       "\n",
       "})();\n",
       "\n",
       "</script>\n",
       "</head>\n",
       "<body>\n",
       "\n",
       "  <table id=\"tablef1835bb7-b485-4fa0-a62c-bad476d27cc2\" class=\"display\" width=\"100%\" ></table>\n",
       "  <!-- When only #uuid div is placed on this page, the height of output-box on ipynb will be 0px. One line below will prevent that. -->\n",
       "<!-- <div id=\"dammy\" style=\"width:100%;height:300px\">  -->\n",
       "</body>\n",
       "</html>"
      ],
      "text/plain": [
       "<IPython.core.display.HTML object>"
      ]
     },
     "metadata": {},
     "output_type": "display_data"
    }
   ],
   "source": [
    "from mjupyutils import show\n",
    "show.table()\n"
   ]
  },
  {
   "cell_type": "code",
   "execution_count": 4,
   "metadata": {
    "collapsed": false
   },
   "outputs": [
    {
     "data": {
      "text/html": [
       "<script>\n",
       "if(window['cytoscape'] === undefined){\n",
       "    var paths = {\n",
       "\tcytoscape: 'http://cytoscape.github.io/cytoscape.js/api/cytoscape.js-latest/cytoscape.min',\n",
       "    };\n",
       "    \n",
       "    console.log('Begin loading all JavaScript libs...');\n",
       "    require.config({paths: paths});\n",
       "\n",
       "    require(['cytoscape'], function(cytoscape){\n",
       "\twindow['cytoscape'] = cytoscape;\n",
       "\tconsole.log('Finished loading jQuery and Cytoscape.js.');\n",
       "\n",
       "\tvar event = document.createEvent(\"HTMLEvents\");\n",
       "\tevent.initEvent(\"load_cytoscape\", true, false);\n",
       "\twindow.dispatchEvent(event);\n",
       "    });\n",
       "}\n",
       "</script>\n"
      ],
      "text/plain": [
       "<IPython.core.display.HTML object>"
      ]
     },
     "metadata": {},
     "output_type": "display_data"
    },
    {
     "data": {
      "text/html": [
       "<!DOCTYPE html>\n",
       "<html>\n",
       "<head>\n",
       "<meta charset=utf-8 />\n",
       "<title>Animated BFS</title>\n",
       "<style type=\"text/css\">\n",
       "body { \n",
       "  font: 14px helvetica neue, helvetica, arial, sans-serif;\n",
       "}\n",
       "\n",
       "#cyc900e876-2ff0-48a0-93fb-acbf29ddd6db {\n",
       "  height: 500px;\n",
       "  width: 500px;\n",
       "  position: absolute;\n",
       "  left: 0;\n",
       "  top: 0;\n",
       "}\n",
       "</style>\n",
       "\n",
       "<script>\n",
       "(function(){\n",
       "\n",
       "function render(){\n",
       "$('#cyc900e876-2ff0-48a0-93fb-acbf29ddd6db').cytoscape({\n",
       "  style: cytoscape.stylesheet()\n",
       "    .selector('node')\n",
       "      .css({\n",
       "        'content': 'data(id)'\n",
       "      })\n",
       "    .selector('edge')\n",
       "      .css({\n",
       "        'target-arrow-shape': 'triangle',\n",
       "        'width': 4,\n",
       "        'line-color': '#ddd',\n",
       "        'target-arrow-color': '#ddd'\n",
       "      })\n",
       "    .selector('.highlighted')\n",
       "      .css({\n",
       "        'background-color': '#61bffc',\n",
       "        'line-color': '#61bffc',\n",
       "        'target-arrow-color': '#61bffc',\n",
       "        'transition-property': 'background-color, line-color, target-arrow-color',\n",
       "        'transition-duration': '0.5s'\n",
       "      }),\n",
       "  \n",
       "  elements: {\n",
       "      nodes: [{\"data\": {\"id\": \"a\"}}, {\"data\": {\"id\": \"b\"}}, {\"data\": {\"id\": \"c\"}}, {\"data\": {\"id\": \"d\"}}, {\"data\": {\"id\": \"e\"}}],\n",
       "      \n",
       "      edges: [{\"data\": {\"target\": \"e\", \"weight\": 1, \"id\": \"a\", \"source\": \"a\"}}, {\"data\": {\"target\": \"b\", \"weight\": 3, \"id\": \"ab\", \"source\": \"a\"}}, {\"data\": {\"target\": \"e\", \"weight\": 4, \"id\": \"be\", \"source\": \"b\"}}, {\"data\": {\"target\": \"c\", \"weight\": 5, \"id\": \"bc\", \"source\": \"b\"}}, {\"data\": {\"target\": \"e\", \"weight\": 6, \"id\": \"ce\", \"source\": \"c\"}}, {\"data\": {\"target\": \"d\", \"weight\": 2, \"id\": \"cd\", \"source\": \"c\"}}, {\"data\": {\"target\": \"e\", \"weight\": 7, \"id\": \"de\", \"source\": \"d\"}}]\n",
       "    },\n",
       "  \n",
       "  layout: {\n",
       "    name: 'breadthfirst',\n",
       "    directed: true,\n",
       "    roots: '#a',\n",
       "    padding: 10\n",
       "  },\n",
       "  \n",
       "  ready: function(){\n",
       "    window.cy = this;\n",
       "    \n",
       "    var bfs = cy.elements().bfs('#a', function(){}, true);\n",
       "    \n",
       "    var i = 0;\n",
       "    var highlightNextEle = function(){\n",
       "      bfs.path[i].addClass('highlighted');\n",
       "      \n",
       "      if( i < bfs.path.length ){\n",
       "        i++;\n",
       "        setTimeout(highlightNextEle, 1000);\n",
       "      }\n",
       "    };\n",
       "    \n",
       "    // kick off first highlight\n",
       "    highlightNextEle();\n",
       "  }\n",
       "});\n",
       "};\n",
       "\n",
       "var before_render = function(){\n",
       "    if(window['cytoscape'] === undefined){\n",
       "         console.log(\"wait!\");\n",
       "\t window.addEventListener(\"load_cytoscape\", before_render);\n",
       "    }else{\n",
       "\t console.log(\"begin rendering!\");\n",
       "\t render();\n",
       "    }\n",
       "}\n",
       "\n",
       "before_render();\n",
       "\n",
       "})();\n",
       "</script>\n",
       "</head>\n",
       "<body>\n",
       "  <div id=\"cyc900e876-2ff0-48a0-93fb-acbf29ddd6db\"></div>\n",
       "  <!-- When only #uuid div is placed on this page, the height of output-box on ipynb will be 0px. One line below will prevent that. -->\n",
       "  <div id=\"dammy\" style=\"width:700px;height:500px\">\n",
       "</body>\n",
       "</html>"
      ],
      "text/plain": [
       "<IPython.core.display.HTML object>"
      ]
     },
     "metadata": {},
     "output_type": "display_data"
    }
   ],
   "source": [
    "from mjupyutils import show\n",
    "show.graph()"
   ]
  },
  {
   "cell_type": "code",
   "execution_count": null,
   "metadata": {
    "collapsed": true
   },
   "outputs": [],
   "source": []
  }
 ],
 "metadata": {
  "kernelspec": {
   "display_name": "Python 3",
   "language": "python",
   "name": "python3"
  },
  "language_info": {
   "codemirror_mode": {
    "name": "ipython",
    "version": 3
   },
   "file_extension": ".py",
   "mimetype": "text/x-python",
   "name": "python",
   "nbconvert_exporter": "python",
   "pygments_lexer": "ipython3",
   "version": "3.5.1"
  }
 },
 "nbformat": 4,
 "nbformat_minor": 0
}
