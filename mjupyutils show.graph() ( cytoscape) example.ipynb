{
 "cells": [
  {
   "cell_type": "code",
   "execution_count": 1,
   "metadata": {
    "collapsed": false
   },
   "outputs": [
    {
     "data": {
      "text/html": [
       "<script>\n",
       "if(window['cytoscape'] === undefined){\n",
       "    var paths = {\n",
       "\tcytoscape: 'http://cytoscape.github.io/cytoscape.js/api/cytoscape.js-latest/cytoscape.min',\n",
       "    };\n",
       "    \n",
       "    console.log('Begin loading all JavaScript libs...');\n",
       "    require.config({paths: paths});\n",
       "\n",
       "    require(['cytoscape'], function(cytoscape){\n",
       "\twindow['cytoscape'] = cytoscape;\n",
       "\tconsole.log('Finished loading jQuery and Cytoscape.js.');\n",
       "\n",
       "\tvar event = document.createEvent(\"HTMLEvents\");\n",
       "\tevent.initEvent(\"load_cytoscape\", true, false);\n",
       "\twindow.dispatchEvent(event);\n",
       "    });\n",
       "}\n",
       "</script>\n"
      ],
      "text/plain": [
       "<IPython.core.display.HTML object>"
      ]
     },
     "metadata": {},
     "output_type": "display_data"
    },
    {
     "data": {
      "text/html": [
       "<!DOCTYPE html>\n",
       "<html>\n",
       "<head>\n",
       "<meta charset=utf-8 />\n",
       "<title>Animated BFS</title>\n",
       "<style type=\"text/css\">\n",
       "body { \n",
       "  font: 14px helvetica neue, helvetica, arial, sans-serif;\n",
       "}\n",
       "\n",
       "#cy26f1ab94-dbda-40d7-81b7-d66bdabbddab {\n",
       "  height: 500px;\n",
       "  width: 500px;\n",
       "  position: absolute;\n",
       "  left: 0;\n",
       "  top: 0;\n",
       "}\n",
       "</style>\n",
       "\n",
       "<script>\n",
       "(function(){\n",
       "\n",
       "function render(){\n",
       "$('#cy26f1ab94-dbda-40d7-81b7-d66bdabbddab').cytoscape({\n",
       "  style: cytoscape.stylesheet()\n",
       "    .selector('node')\n",
       "      .css({\n",
       "        'content': 'data(id)'\n",
       "      })\n",
       "    .selector('edge')\n",
       "      .css({\n",
       "        'target-arrow-shape': 'triangle',\n",
       "        'width': 4,\n",
       "        'line-color': '#ddd',\n",
       "        'target-arrow-color': '#ddd'\n",
       "      })\n",
       "    .selector('.highlighted')\n",
       "      .css({\n",
       "        'background-color': '#61bffc',\n",
       "        'line-color': '#61bffc',\n",
       "        'target-arrow-color': '#61bffc',\n",
       "        'transition-property': 'background-color, line-color, target-arrow-color',\n",
       "        'transition-duration': '0.5s'\n",
       "      }),\n",
       "  \n",
       "  elements: {\n",
       "      nodes: [{\"data\": {\"id\": \"a\"}}, {\"data\": {\"id\": \"b\"}}, {\"data\": {\"id\": \"c\"}}, {\"data\": {\"id\": \"d\"}}, {\"data\": {\"id\": \"e\"}}],\n",
       "      \n",
       "      edges: [{\"data\": {\"weight\": 1, \"id\": \"a\", \"source\": \"a\", \"target\": \"e\"}}, {\"data\": {\"weight\": 3, \"id\": \"ab\", \"source\": \"a\", \"target\": \"b\"}}, {\"data\": {\"weight\": 4, \"id\": \"be\", \"source\": \"b\", \"target\": \"e\"}}, {\"data\": {\"weight\": 5, \"id\": \"bc\", \"source\": \"b\", \"target\": \"c\"}}, {\"data\": {\"weight\": 6, \"id\": \"ce\", \"source\": \"c\", \"target\": \"e\"}}, {\"data\": {\"weight\": 2, \"id\": \"cd\", \"source\": \"c\", \"target\": \"d\"}}, {\"data\": {\"weight\": 7, \"id\": \"de\", \"source\": \"d\", \"target\": \"e\"}}]\n",
       "    },\n",
       "  \n",
       "  layout: {\n",
       "    name: 'breadthfirst',\n",
       "    directed: true,\n",
       "    roots: '#a',\n",
       "    padding: 10\n",
       "  },\n",
       "  \n",
       "  ready: function(){\n",
       "    window.cy = this;\n",
       "    \n",
       "    var bfs = cy.elements().bfs('#a', function(){}, true);\n",
       "    \n",
       "    var i = 0;\n",
       "    var highlightNextEle = function(){\n",
       "      bfs.path[i].addClass('highlighted');\n",
       "      \n",
       "      if( i < bfs.path.length ){\n",
       "        i++;\n",
       "        setTimeout(highlightNextEle, 1000);\n",
       "      }\n",
       "    };\n",
       "    \n",
       "    // kick off first highlight\n",
       "    highlightNextEle();\n",
       "  }\n",
       "});\n",
       "};\n",
       "\n",
       "var before_render = function(){\n",
       "    if(window['cytoscape'] === undefined){\n",
       "         console.log(\"wait!\");\n",
       "\t window.addEventListener(\"load_cytoscape\", before_render);\n",
       "    }else{\n",
       "\t console.log(\"begin rendering!\");\n",
       "\t render();\n",
       "    }\n",
       "}\n",
       "\n",
       "before_render();\n",
       "\n",
       "})();\n",
       "</script>\n",
       "</head>\n",
       "<body>\n",
       "  <div id=\"cy26f1ab94-dbda-40d7-81b7-d66bdabbddab\"></div>\n",
       "  <!-- When only #uuid div is placed on this page, the height of output-box on ipynb will be 0px. One line below will prevent that. -->\n",
       "  <div id=\"dammy\" style=\"width:700px;height:500px\">\n",
       "</body>\n",
       "</html>"
      ],
      "text/plain": [
       "<IPython.core.display.HTML object>"
      ]
     },
     "metadata": {},
     "output_type": "display_data"
    }
   ],
   "source": [
    "from mjupyutils import show\n",
    "edges = [\n",
    "    { 'data': { 'id': 'a', 'weight': 1, 'source': 'a', 'target': 'e' } },\n",
    "    { 'data': { 'id': 'ab', 'weight': 3, 'source': 'a', 'target': 'b' } },\n",
    "    { 'data': { 'id': 'be', 'weight': 4, 'source': 'b', 'target': 'e' } },\n",
    "    { 'data': { 'id': 'bc', 'weight': 5, 'source': 'b', 'target': 'c' } },\n",
    "    { 'data': { 'id': 'ce', 'weight': 6, 'source': 'c', 'target': 'e' } },\n",
    "    { 'data': { 'id': 'cd', 'weight': 2, 'source': 'c', 'target': 'd' } },\n",
    "    { 'data': { 'id': 'de', 'weight': 7, 'source': 'd', 'target': 'e' } }\n",
    "]\n",
    "nodes = [\n",
    "    { 'data': { 'id': 'a' } },\n",
    "    { 'data': { 'id': 'b' } },\n",
    "    { 'data': { 'id': 'c' } },\n",
    "    { 'data': { 'id': 'd' } },\n",
    "    { 'data': { 'id': 'e' } }\n",
    "]\n",
    "show.graph(nodes=nodes,edges=edges)\n",
    "    "
   ]
  },
  {
   "cell_type": "code",
   "execution_count": null,
   "metadata": {
    "collapsed": true
   },
   "outputs": [],
   "source": []
  }
 ],
 "metadata": {
  "kernelspec": {
   "display_name": "Python 3",
   "language": "python",
   "name": "python3"
  },
  "language_info": {
   "codemirror_mode": {
    "name": "ipython",
    "version": 3
   },
   "file_extension": ".py",
   "mimetype": "text/x-python",
   "name": "python",
   "nbconvert_exporter": "python",
   "pygments_lexer": "ipython3",
   "version": "3.5.1"
  }
 },
 "nbformat": 4,
 "nbformat_minor": 0
}
