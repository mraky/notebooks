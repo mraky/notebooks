{
 "cells": [
  {
   "cell_type": "code",
   "execution_count": null,
   "metadata": {
    "ExecuteTime": {
     "start_time": "2016-04-06T22:31:28.128Z"
    },
    "collapsed": true,
    "hide_input": false
   },
   "outputs": [],
   "source": [
    "import psycopg2\n",
    "import pandas as pd\n",
    "%matplotlib inline\n",
    "import matplotlib.pyplot as plt\n",
    "import matplotlib\n",
    "matplotlib.style.use('ggplot')\n",
    "\n",
    "from bokeh.charts import HeatMap, output_file, show , TimeSeries , vplot , Bar\n",
    "from bokeh.io import output_notebook\n",
    "\n",
    "try:\n",
    "    conn = psycopg2.connect(dbname='turkey',user='postgres',host='10.13.1.150',port='6432')\n",
    "    cur = conn.cursor()\n",
    "    \n",
    "    \n",
    "    \n",
    "except:\n",
    "    print (\"I am unable to connect to the database\")"
   ]
  },
  {
   "cell_type": "code",
   "execution_count": 1,
   "metadata": {
    "ExecuteTime": {
     "start_time": "2016-04-06T22:31:28.138Z"
    },
    "collapsed": false,
    "hide_input": false
   },
   "outputs": [],
   "source": [
    "#   pocet zaznamu na casove ose\n",
    "#\n",
    "q=\"\"\"\n",
    "SELECT  n1.date_of_birth,count(n1.first) from \n",
    "    (   \n",
    "       SELECT  date_of_birth,first from citizen limit 100\n",
    "       ) n1\n",
    "group by n1.date_of_birth\n",
    "\n",
    "\n",
    "\"\"\"\n",
    "qf=\"\"\"\n",
    "SELECT  date_of_birth,count(first) from citizen\n",
    "  \n",
    "group by date_of_birth\n",
    "\n",
    "\"\"\"\n",
    "\n",
    "cur.execute(qf)\n",
    "rows=cur.fetchall()\n",
    "\n",
    "dbarray=[]\n",
    "for row in rows:\n",
    "    try:\n",
    "        db={}\n",
    "        #db['datum']=pd.to_datetime(row[0])\n",
    "        db['datum']=row[0]\n",
    "        db['pocet']=row[1]\n",
    "        dbarray.append(db)\n",
    "    except :\n",
    "        pass\n",
    "    \n",
    "dodo=pd.DataFrame(dbarray)\n",
    "#dodo=dodo.resample(\"M\",how=sum)\n",
    "\n",
    "#print(data)\n",
    "#gr=pd.Series(data=data.pocet,index=data.datum) \n",
    "#data = data.set_index(\"datum\")\n",
    "#print(data)\n",
    "#data=dict(pocet=dodo['pocet'],datum=dodo['datum'])\n",
    "\n",
    "#print(dda)\n",
    "#p=TimeSeries(dodo,x=\"datum\",y=\"pocet\")\n",
    "p=Bar(dodo,label='datum',values='pocet')\n",
    "output_notebook()\n",
    "\n",
    "show(p)\n",
    "#print(data)\n",
    "#ss=pd.Series(data=datay,index=datax)\n",
    "#ss.plot()"
   ]
  },
  {
   "cell_type": "code",
   "execution_count": null,
   "outputs": [],
   "source": [
    ""
   ]
  }
 ],
 "metadata": {
  "hide_input": false,
  "kernelspec": {
   "display_name": "Python 3",
   "language": "python",
   "name": "python3"
  },
  "language_info": {
   "codemirror_mode": {
    "name": "ipython",
    "version": 3.0
   },
   "file_extension": ".py",
   "mimetype": "text/x-python",
   "name": "python",
   "nbconvert_exporter": "python",
   "pygments_lexer": "ipython3",
   "version": "3.5.1"
  }
 },
 "nbformat": 4,
 "nbformat_minor": 0
}