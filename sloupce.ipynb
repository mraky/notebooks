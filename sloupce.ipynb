{
 "cells": [
  {
   "cell_type": "code",
   "execution_count": 9,
   "metadata": {
    "collapsed": false
   },
   "outputs": [],
   "source": [
    "import psycopg2\n",
    "import pandas as pd\n",
    "cur=\"\"\n",
    "try:\n",
    "    conn = psycopg2.connect(\"dbname='turkey' user='postgres' host='10.13.1.150' port='6432'\")\n",
    "    cur = conn.cursor()\n",
    "    \n",
    "    \n",
    "except:\n",
    "    print (\"I am unable to connect to the database\")"
   ]
  },
  {
   "cell_type": "code",
   "execution_count": 10,
   "metadata": {
    "collapsed": false
   },
   "outputs": [
    {
     "name": "stdout",
     "output_type": "stream",
     "text": [
      "None\n"
     ]
    }
   ],
   "source": [
    "q=\"\"\"\n",
    "SELECT *\n",
    "FROM information_schema.columns\n",
    "WHERE \n",
    "   table_name   = 'citizen'\n",
    "\n",
    "\"\"\"\n",
    "rows=cur.execute(q)\n",
    "ss=pd.DataFrame(rows)\n",
    "\n",
    "print(rows)"
   ]
  }
 ],
 "metadata": {
  "kernelspec": {
   "display_name": "Python 3",
   "language": "python",
   "name": "python3"
  },
  "language_info": {
   "codemirror_mode": {
    "name": "ipython",
    "version": 3
   },
   "file_extension": ".py",
   "mimetype": "text/x-python",
   "name": "python",
   "nbconvert_exporter": "python",
   "pygments_lexer": "ipython3",
   "version": "3.5.1"
  }
 },
 "nbformat": 4,
 "nbformat_minor": 0
}
