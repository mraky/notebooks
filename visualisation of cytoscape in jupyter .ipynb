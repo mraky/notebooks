{
 "cells": [
  {
   "cell_type": "markdown",
   "metadata": {},
   "source": [
    "install first python module cytojupy  \n",
    "\n",
    "pip -v install git+https://github.com/mraky/jupyter-cytoscape.git\n",
    "\n",
    "so far its just for confirmation, it works.. "
   ]
  },
  {
   "cell_type": "code",
   "execution_count": 1,
   "metadata": {
    "collapsed": false
   },
   "outputs": [
    {
     "data": {
      "text/html": [
       "<script>\n",
       "if(window['cytoscape'] === undefined){\n",
       "    var paths = {\n",
       "\tcytoscape: 'http://cytoscape.github.io/cytoscape.js/api/cytoscape.js-latest/cytoscape.min',\n",
       "    };\n",
       "    \n",
       "    console.log('Begin loading all JavaScript libs...');\n",
       "    require.config({paths: paths});\n",
       "\n",
       "    require(['cytoscape'], function(cytoscape){\n",
       "\twindow['cytoscape'] = cytoscape;\n",
       "\tconsole.log('Finished loading jQuery and Cytoscape.js.');\n",
       "\n",
       "\tvar event = document.createEvent(\"HTMLEvents\");\n",
       "\tevent.initEvent(\"load_cytoscape\", true, false);\n",
       "\twindow.dispatchEvent(event);\n",
       "    });\n",
       "}\n",
       "</script>\n"
      ],
      "text/plain": [
       "<IPython.core.display.HTML object>"
      ]
     },
     "metadata": {},
     "output_type": "execute_result"
    },
    {
     "data": {
      "text/html": [
       "<!DOCTYPE html>\n",
       "<html>\n",
       "<head>\n",
       "<meta charset=utf-8 />\n",
       "<title>Animated BFS</title>\n",
       "<style type=\"text/css\">\n",
       "body { \n",
       "  font: 14px helvetica neue, helvetica, arial, sans-serif;\n",
       "}\n",
       "\n",
       "#cyd1ef7d3f-c132-4990-a906-0b36a300838d {\n",
       "  height: 500px;\n",
       "  width: 500px;\n",
       "  position: absolute;\n",
       "  left: 0;\n",
       "  top: 0;\n",
       "}\n",
       "</style>\n",
       "\n",
       "<script>\n",
       "(function(){\n",
       "\n",
       "function render(){\n",
       "$('#cyd1ef7d3f-c132-4990-a906-0b36a300838d').cytoscape({\n",
       "  style: cytoscape.stylesheet()\n",
       "    .selector('node')\n",
       "      .css({\n",
       "        'content': 'data(id)'\n",
       "      })\n",
       "    .selector('edge')\n",
       "      .css({\n",
       "        'target-arrow-shape': 'triangle',\n",
       "        'width': 4,\n",
       "        'line-color': '#ddd',\n",
       "        'target-arrow-color': '#ddd'\n",
       "      })\n",
       "    .selector('.highlighted')\n",
       "      .css({\n",
       "        'background-color': '#61bffc',\n",
       "        'line-color': '#61bffc',\n",
       "        'target-arrow-color': '#61bffc',\n",
       "        'transition-property': 'background-color, line-color, target-arrow-color',\n",
       "        'transition-duration': '0.5s'\n",
       "      }),\n",
       "  \n",
       "  elements: {\n",
       "      nodes: [{\"data\": {\"id\": \"a\"}}, {\"data\": {\"id\": \"b\"}}, {\"data\": {\"id\": \"c\"}}, {\"data\": {\"id\": \"d\"}}, {\"data\": {\"id\": \"e\"}}],\n",
       "      \n",
       "      edges: [{\"data\": {\"weight\": 1, \"target\": \"e\", \"source\": \"a\", \"id\": \"a\"}}, {\"data\": {\"weight\": 3, \"target\": \"b\", \"source\": \"a\", \"id\": \"ab\"}}, {\"data\": {\"weight\": 4, \"target\": \"e\", \"source\": \"b\", \"id\": \"be\"}}, {\"data\": {\"weight\": 5, \"target\": \"c\", \"source\": \"b\", \"id\": \"bc\"}}, {\"data\": {\"weight\": 6, \"target\": \"e\", \"source\": \"c\", \"id\": \"ce\"}}, {\"data\": {\"weight\": 2, \"target\": \"d\", \"source\": \"c\", \"id\": \"cd\"}}, {\"data\": {\"weight\": 7, \"target\": \"e\", \"source\": \"d\", \"id\": \"de\"}}]\n",
       "    },\n",
       "  \n",
       "  layout: {\n",
       "    name: 'breadthfirst',\n",
       "    directed: true,\n",
       "    roots: '#a',\n",
       "    padding: 10\n",
       "  },\n",
       "  \n",
       "  ready: function(){\n",
       "    window.cy = this;\n",
       "    \n",
       "    var bfs = cy.elements().bfs('#a', function(){}, true);\n",
       "    \n",
       "    var i = 0;\n",
       "    var highlightNextEle = function(){\n",
       "      bfs.path[i].addClass('highlighted');\n",
       "      \n",
       "      if( i < bfs.path.length ){\n",
       "        i++;\n",
       "        setTimeout(highlightNextEle, 1000);\n",
       "      }\n",
       "    };\n",
       "    \n",
       "    // kick off first highlight\n",
       "    highlightNextEle();\n",
       "  }\n",
       "});\n",
       "};\n",
       "\n",
       "var before_render = function(){\n",
       "    if(window['cytoscape'] === undefined){\n",
       "         console.log(\"wait!\");\n",
       "\t window.addEventListener(\"load_cytoscape\", before_render);\n",
       "    }else{\n",
       "\t console.log(\"begin rendering!\");\n",
       "\t render();\n",
       "    }\n",
       "}\n",
       "\n",
       "before_render();\n",
       "\n",
       "})();\n",
       "</script>\n",
       "</head>\n",
       "<body>\n",
       "  <div id=\"cyd1ef7d3f-c132-4990-a906-0b36a300838d\"></div>\n",
       "  <!-- When only #uuid div is placed on this page, the height of output-box on ipynb will be 0px. One line below will prevent that. -->\n",
       "  <div id=\"dammy\" style=\"width:700px;height:500px\">\n",
       "</body>\n",
       "</html>"
      ],
      "text/plain": [
       "<IPython.core.display.HTML object>"
      ]
     },
     "metadata": {},
     "output_type": "execute_result"
    }
   ],
   "source": [
    "import cytojupy.main as cy\n",
    "cy.init_ipynb()\n",
    "cy.plot()"
   ]
  }
 ],
 "metadata": {
  "kernelspec": {
   "display_name": "Python 3",
   "language": "python",
   "name": "python3"
  },
  "language_info": {
   "codemirror_mode": {
    "name": "ipython",
    "version": 3.0
   },
   "file_extension": ".py",
   "mimetype": "text/x-python",
   "name": "python",
   "nbconvert_exporter": "python",
   "pygments_lexer": "ipython3",
   "version": "3.5.1"
  }
 },
 "nbformat": 4,
 "nbformat_minor": 0
}